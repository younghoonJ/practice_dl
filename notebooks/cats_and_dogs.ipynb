{
 "cells": [
  {
   "cell_type": "code",
   "execution_count": 1,
   "id": "ffcf840c-603d-4c4e-af56-7be0cefdafe2",
   "metadata": {},
   "outputs": [],
   "source": [
    "import os, shutil\n",
    "import time\n",
    "from pathlib import Path"
   ]
  },
  {
   "cell_type": "code",
   "execution_count": 2,
   "id": "d6dc05d7-be9d-45d5-ab0f-6bb24b3c5f7f",
   "metadata": {},
   "outputs": [],
   "source": [
    "def make_dir(path_to_dir):\n",
    "    if not os.path.exists(path_to_dir):\n",
    "        os.mkdir(path_to_dir)"
   ]
  },
  {
   "cell_type": "code",
   "execution_count": 3,
   "id": "5c2ee646-5e15-4c48-a417-186d1170d920",
   "metadata": {},
   "outputs": [
    {
     "data": {
      "text/plain": [
       "'F:\\\\notebooks'"
      ]
     },
     "execution_count": 3,
     "metadata": {},
     "output_type": "execute_result"
    }
   ],
   "source": [
    "cwd = os.getcwd()\n",
    "cwd"
   ]
  },
  {
   "cell_type": "code",
   "execution_count": 4,
   "id": "eed9a22a-c33c-4400-a328-c77c0b3d1ebc",
   "metadata": {},
   "outputs": [],
   "source": [
    "original_dataset_dir = './data/cats_and_dogs/train'\n",
    "base_dir = cwd + './data/cats_and_dogs_small'\n",
    "make_dir(base_dir)"
   ]
  },
  {
   "cell_type": "code",
   "execution_count": 5,
   "id": "8d79c2b6-1475-4a37-b6c9-13f8c7fe2ace",
   "metadata": {},
   "outputs": [],
   "source": [
    "train_dir = os.path.join(base_dir, 'train')\n",
    "validation_dir = os.path.join(base_dir, 'validation')\n",
    "test_dir = os.path.join(base_dir, 'test')\n",
    "\n",
    "make_dir(train_dir)\n",
    "make_dir(validation_dir)\n",
    "make_dir(test_dir)"
   ]
  },
  {
   "cell_type": "code",
   "execution_count": 6,
   "id": "d9d3df9a-c742-4206-a35b-38de140e6431",
   "metadata": {},
   "outputs": [],
   "source": [
    "train_cats_dir = os.path.join(train_dir, 'cats')\n",
    "train_dogs_dir = os.path.join(train_dir, 'dogs')\n",
    "\n",
    "make_dir(train_cats_dir)\n",
    "make_dir(train_dogs_dir)"
   ]
  },
  {
   "cell_type": "code",
   "execution_count": 7,
   "id": "55fee15e-1054-4cc6-a9d4-bccc56545921",
   "metadata": {},
   "outputs": [],
   "source": [
    "validation_cats_dir = os.path.join(validation_dir, 'cats')\n",
    "validation_dogs_dir = os.path.join(validation_dir, 'dogs')\n",
    "\n",
    "make_dir(validation_cats_dir)\n",
    "make_dir(validation_dogs_dir)"
   ]
  },
  {
   "cell_type": "code",
   "execution_count": 8,
   "id": "a7112ebd-5670-4ddf-817a-1e1f52fcbf5e",
   "metadata": {},
   "outputs": [],
   "source": [
    "test_cats_dir = os.path.join(test_dir, 'cats')\n",
    "test_dogs_dir = os.path.join(test_dir, 'dogs')\n",
    "\n",
    "make_dir(test_cats_dir)\n",
    "make_dir(test_dogs_dir)"
   ]
  },
  {
   "cell_type": "code",
   "execution_count": 9,
   "id": "1d5a5b72-88a0-4d91-bdea-1c57ebb75832",
   "metadata": {},
   "outputs": [],
   "source": [
    "fnames = [f'cat.{i}.jpg' for i in range(1000)]\n",
    "for fname in fnames:\n",
    "    src = os.path.join(original_dataset_dir, fname)\n",
    "    dst = os.path.join(train_cats_dir, fname)\n",
    "    shutil.copyfile(src, dst)"
   ]
  },
  {
   "cell_type": "code",
   "execution_count": 10,
   "id": "7373bc6d-7d21-49f9-ac3f-abefdb936c54",
   "metadata": {},
   "outputs": [],
   "source": [
    "fnames = [f'cat.{i}.jpg' for i in range(1000, 1500)]\n",
    "for fname in fnames:\n",
    "    src = os.path.join(original_dataset_dir, fname)\n",
    "    dst = os.path.join(validation_cats_dir, fname)\n",
    "    shutil.copyfile(src, dst)"
   ]
  },
  {
   "cell_type": "code",
   "execution_count": 11,
   "id": "61f42703-c119-4d42-a21e-2a2fd3e79bc7",
   "metadata": {},
   "outputs": [],
   "source": [
    "fnames = [f'cat.{i}.jpg' for i in range(1500, 2000)]\n",
    "for fname in fnames:\n",
    "    src = os.path.join(original_dataset_dir, fname)\n",
    "    dst = os.path.join(test_cats_dir, fname)\n",
    "    shutil.copyfile(src, dst)"
   ]
  },
  {
   "cell_type": "code",
   "execution_count": 12,
   "id": "64b54b3d-895e-42d7-95af-442351b0fa57",
   "metadata": {},
   "outputs": [],
   "source": [
    "fnames = [f'dog.{i}.jpg' for i in range(1000)]\n",
    "for fname in fnames:\n",
    "    src = os.path.join(original_dataset_dir, fname)\n",
    "    dst = os.path.join(train_dogs_dir, fname)\n",
    "    shutil.copyfile(src, dst)"
   ]
  },
  {
   "cell_type": "code",
   "execution_count": 13,
   "id": "99b4f2f0-12ea-4a2e-ad12-b3fa377d9c2e",
   "metadata": {},
   "outputs": [],
   "source": [
    "fnames = [f'dog.{i}.jpg' for i in range(1000, 1500)]\n",
    "for fname in fnames:\n",
    "    src = os.path.join(original_dataset_dir, fname)\n",
    "    dst = os.path.join(validation_dogs_dir, fname)\n",
    "    shutil.copyfile(src, dst)"
   ]
  },
  {
   "cell_type": "code",
   "execution_count": 14,
   "id": "caa2f845-0990-4e6f-9256-14f0dfa09414",
   "metadata": {},
   "outputs": [],
   "source": [
    "fnames = [f'dog.{i}.jpg' for i in range(1500, 2000)]\n",
    "for fname in fnames:\n",
    "    src = os.path.join(original_dataset_dir, fname)\n",
    "    dst = os.path.join(test_dogs_dir, fname)\n",
    "    shutil.copyfile(src, dst)"
   ]
  },
  {
   "cell_type": "code",
   "execution_count": 15,
   "id": "7f2a9ffc-ee70-467e-a4f0-84c1c9301bbc",
   "metadata": {},
   "outputs": [
    {
     "name": "stdout",
     "output_type": "stream",
     "text": [
      "# of images | train | cats 1000\n",
      "# of images | test | cats 500\n",
      "# of images | validation | cats 500\n"
     ]
    }
   ],
   "source": [
    "print('# of images | train | cats', len(os.listdir(train_cats_dir)))\n",
    "print('# of images | test | cats', len(os.listdir(test_cats_dir)))\n",
    "print('# of images | validation | cats', len(os.listdir(validation_cats_dir)))"
   ]
  },
  {
   "cell_type": "code",
   "execution_count": 16,
   "id": "d8b5fcc6-c0ea-4556-a096-0604d9b38b4e",
   "metadata": {},
   "outputs": [
    {
     "name": "stdout",
     "output_type": "stream",
     "text": [
      "# of images | train | dogs 1000\n",
      "# of images | test | dogs 500\n",
      "# of images | validation | dogs 500\n"
     ]
    }
   ],
   "source": [
    "print('# of images | train | dogs', len(os.listdir(train_dogs_dir)))\n",
    "print('# of images | test | dogs', len(os.listdir(test_dogs_dir)))\n",
    "print('# of images | validation | dogs', len(os.listdir(validation_dogs_dir)))"
   ]
  },
  {
   "cell_type": "code",
   "execution_count": 17,
   "id": "90d338bc-2106-40d2-88ca-dca0c1bc8b87",
   "metadata": {},
   "outputs": [],
   "source": [
    "import torch\n",
    "import torchvision\n",
    "from torchvision import transforms, datasets"
   ]
  },
  {
   "cell_type": "code",
   "execution_count": 18,
   "id": "aa22b595-4d1d-4219-8fee-a6c4897abd63",
   "metadata": {},
   "outputs": [
    {
     "name": "stdout",
     "output_type": "stream",
     "text": [
      "cuda:0\n"
     ]
    }
   ],
   "source": [
    "device = torch.device(\"cuda:0\" if torch.cuda.is_available() else \"cpu\")\n",
    "print(device)"
   ]
  },
  {
   "cell_type": "code",
   "execution_count": 19,
   "id": "9d5b4401-6b41-4e31-9f5b-cdaafcedbbd0",
   "metadata": {},
   "outputs": [],
   "source": [
    "transform = transforms.Compose([transforms.ToTensor(),\n",
    "                                transforms.Resize((150,150))])\n",
    "\n",
    "batch_size = 20\n",
    "\n",
    "train_data = datasets.ImageFolder(root=train_dir, transform=transform)\n",
    "trainloader = torch.utils.data.DataLoader(train_data, batch_size=batch_size, shuffle=True, num_workers=2)\n",
    "\n",
    "validation_data = datasets.ImageFolder(root=validation_dir, transform=transform)\n",
    "validationloader = torch.utils.data.DataLoader(validation_data, batch_size=batch_size, shuffle=False, num_workers=2)\n",
    "\n",
    "test_data = datasets.ImageFolder(root=test_dir, transform=transform)\n",
    "testloader = torch.utils.data.DataLoader(test_data, batch_size=batch_size, shuffle=False, num_workers=2)\n",
    "\n",
    "classes = ('cat', 'dog')"
   ]
  },
  {
   "cell_type": "code",
   "execution_count": 20,
   "id": "ba4eab40-2bfc-48d3-8b94-ebfdd9aee4da",
   "metadata": {},
   "outputs": [
    {
     "data": {
      "image/png": "[encoded data removed]",
      "text/plain": [
       "<Figure size 432x288 with 1 Axes>"
      ]
     },
     "metadata": {
      "needs_background": "light"
     },
     "output_type": "display_data"
    },
    {
     "name": "stdout",
     "output_type": "stream",
     "text": [
      "  cat   cat   cat   dog   dog   dog   cat   cat   dog   dog   dog   dog   cat   dog   cat   cat   cat   dog   dog   cat\n"
     ]
    }
   ],
   "source": [
    "import matplotlib.pyplot as plt\n",
    "import numpy as np\n",
    "\n",
    "def imshow(img):\n",
    "    img = img / 2 + 0.5     # unnormalize\n",
    "    npimg = img.numpy()\n",
    "    plt.imshow(np.transpose(npimg, (1, 2, 0)))\n",
    "    plt.show()\n",
    "\n",
    "\n",
    "# get some random training images\n",
    "dataiter = iter(trainloader)\n",
    "images, labels = dataiter.next()\n",
    "\n",
    "\n",
    "\n",
    "# show images\n",
    "imshow(torchvision.utils.make_grid(images))\n",
    "# print labels\n",
    "print(' '.join('%5s' % classes[labels[j]] for j in range(batch_size)))"
   ]
  },
  {
   "cell_type": "code",
   "execution_count": 21,
   "id": "3ea95674-b218-499b-b2c6-9000b57f4397",
   "metadata": {},
   "outputs": [
    {
     "data": {
      "text/plain": [
       "torch.Size([20, 3, 150, 150])"
      ]
     },
     "execution_count": 21,
     "metadata": {},
     "output_type": "execute_result"
    }
   ],
   "source": [
    "images.shape"
   ]
  },
  {
   "cell_type": "code",
   "execution_count": 22,
   "id": "78e0304b-0608-4184-b7c7-a2804489a30f",
   "metadata": {},
   "outputs": [
    {
     "data": {
      "text/plain": [
       "(tensor(1.), tensor(0.))"
      ]
     },
     "execution_count": 22,
     "metadata": {},
     "output_type": "execute_result"
    }
   ],
   "source": [
    "torch.max(images), torch.min(images)"
   ]
  },
  {
   "cell_type": "code",
   "execution_count": 23,
   "id": "513be3f9-73f3-46e5-af16-9418b52694d5",
   "metadata": {},
   "outputs": [],
   "source": [
    "import torch.nn as nn\n",
    "import torch.nn.functional as F"
   ]
  },
  {
   "cell_type": "code",
   "execution_count": 24,
   "id": "901913c0-dfb3-45a3-831a-6f688bd82472",
   "metadata": {},
   "outputs": [
    {
     "data": {
      "text/plain": [
       "torch.Size([1, 1, 7, 7])"
      ]
     },
     "execution_count": 24,
     "metadata": {},
     "output_type": "execute_result"
    }
   ],
   "source": [
    "m = nn.MaxPool2d(2, 2)\n",
    "input = torch.randn(1, 1, 15, 15)\n",
    "output = m(input)\n",
    "output.shape"
   ]
  },
  {
   "cell_type": "code",
   "execution_count": 25,
   "id": "2f577f03-c588-4fa9-8a0b-b72f19e2486e",
   "metadata": {},
   "outputs": [],
   "source": [
    "class Net(nn.Module):\n",
    "    def __init__(self):\n",
    "        super().__init__()\n",
    "        # input (3, 150, 150)\n",
    "        self.conv1 = nn.Conv2d(3, 32, 3) # (32, 148, 148)\n",
    "        self.pool1 = nn.MaxPool2d(2, 2) # (32, 74, 74)\n",
    "        self.conv2 = nn.Conv2d(32, 64, 3) # (64, 72, 72)\n",
    "        self.pool2 = nn.MaxPool2d(2, 2) # (63, 36, 36)\n",
    "        self.conv3 = nn.Conv2d(64, 128, 3) # (128, 34, 34)\n",
    "        self.pool3 = nn.MaxPool2d(2, 2) # (128, 17, 17)\n",
    "        self.conv4 = nn.Conv2d(128, 128, 3) # (128, 15, 15)\n",
    "        self.pool4 = nn.MaxPool2d(2, 2)  # (128, 7, 7)\n",
    "        self.dense1 = nn.Linear(128*7*7, 512)\n",
    "        self.dense2 = nn.Linear(512, 1)\n",
    "        \n",
    "        \n",
    "    def forward(self, x):\n",
    "        x = self.pool1(F.relu(self.conv1(x)))\n",
    "        x = self.pool2(F.relu(self.conv2(x)))\n",
    "        x = self.pool3(F.relu(self.conv3(x)))\n",
    "        x = self.pool4(F.relu(self.conv4(x)))\n",
    "        x = torch.flatten(x, 1)\n",
    "        x = F.relu(self.dense1(x))\n",
    "        x = F.sigmoid(self.dense2(x))\n",
    "        return x"
   ]
  },
  {
   "cell_type": "code",
   "execution_count": 26,
   "id": "87a4b03a-e139-4032-976a-31a607da23bb",
   "metadata": {},
   "outputs": [],
   "source": [
    "# class Net(nn.Module):\n",
    "#     def __init__(self):\n",
    "#         super().__init__()\n",
    "#         # input (3, 150, 150)\n",
    "#         # (32, 148, 148)\n",
    "#         # (32, 74, 74)\n",
    "#         self.conv1 = nn.Sequential(nn.Conv2d(3, 32, 3),\n",
    "#                                    nn.ReLU(),\n",
    "#                                    nn.MaxPool2d(2, 2))\n",
    "#         # (64, 72, 72)\n",
    "#         # (63, 36, 36)\n",
    "#         self.conv2 = nn.Sequential(nn.Conv2d(32, 64, 3),\n",
    "#                                    nn.ReLU(),\n",
    "#                                    nn.MaxPool2d(2, 2))\n",
    "#         # (128, 34, 34)\n",
    "#         # (128, 17, 17)\n",
    "#         self.conv3 = nn.Sequential(nn.Conv2d(64, 128, 3),\n",
    "#                                    nn.ReLU(),\n",
    "#                                    nn.MaxPool2d(2, 2))\n",
    "#         self.conv4 = nn.Sequential(nn.Conv2d(128, 128, 3), nn.MaxPool2d(2, 2))\n",
    "#         # (128, 15, 15)\n",
    "#         # (128, 7, 7)\n",
    "#         self.dense1 = nn.Sequential(nn.Linear(128 * 7 * 7, 512),\n",
    "#                                     nn.ReLU())\n",
    "#         self.dense2 = nn.Linear(512, 1)\n",
    "        \n",
    "#     def forward(self, x):\n",
    "#         x = self.conv1(x)\n",
    "#         x = self.conv2(x)\n",
    "#         x = self.conv3(x)\n",
    "#         x = self.conv4(x)\n",
    "#         x = torch.flatten(x, 1)\n",
    "#         x = self.dense1(x)\n",
    "#         x = self.dense2(x)\n",
    "#         return x\n",
    "\n",
    "# model = Net().to(device)"
   ]
  },
  {
   "cell_type": "code",
   "execution_count": null,
   "id": "1d363893-e2f4-4459-bafe-ba1fc00fae7d",
   "metadata": {},
   "outputs": [],
   "source": [
    "# def train(model, optimizer, loss_fn, train_loader, val_loader, epochs=20, device=\"cpu\"):\n",
    "#     for epoch in range(1, epochs+1):\n",
    "#         training_loss = 0.0\n",
    "#         valid_loss = 0.0\n",
    "#         model.train()\n",
    "#         for batch in train_loader:\n",
    "#             optimizer.zero_grad()\n",
    "#             inputs, targets = batch\n",
    "#             inputs = inputs.to(device)\n",
    "#             targets = targets.to(device).float().unsqueeze(-1)\n",
    "#             output = model(inputs)\n",
    "# #             loss = loss_fn(output, targets)\n",
    "#             loss = loss_fn(output, targets)\n",
    "#             loss.backward()\n",
    "#             optimizer.step()\n",
    "#             training_loss += loss.data.item() * inputs.size(0)\n",
    "#         training_loss /= len(train_loader.dataset)\n",
    "        \n",
    "#         model.eval()\n",
    "#         num_correct = 0 \n",
    "#         num_examples = 0\n",
    "#         for batch in val_loader:\n",
    "#             inputs, targets = batch\n",
    "#             inputs = inputs.to(device)\n",
    "#             targets = targets.to(device).float().unsqueeze(-1)\n",
    "#             output = model(inputs)\n",
    "# #             loss = loss_fn(output, targets)\n",
    "#             loss = loss_fn(output, targets)\n",
    "#             valid_loss += loss.data.item() * inputs.size(0)\n",
    "#             correct = torch.eq(torch.max(F.softmax(output, dim=1), dim=1)[1],\n",
    "#                                targets)\n",
    "#             num_correct += torch.sum(correct).item()\n",
    "#             num_examples += correct.shape[0]\n",
    "#         valid_loss /= len(val_loader.dataset)\n",
    "\n",
    "#         print('Epoch: {}, Training Loss: {:.2f}, Validation Loss: {:.2f}, accuracy = {:.2f}'.format(epoch, training_loss, valid_loss, num_correct / num_examples))"
   ]
  },
  {
   "cell_type": "code",
   "execution_count": null,
   "id": "9187ba73-698f-4bc4-847c-28795e17b4fe",
   "metadata": {},
   "outputs": [],
   "source": [
    "# train(model, optimizer, criterion, trainloader, validationloader, epochs=10, device=device)"
   ]
  },
  {
   "cell_type": "code",
   "execution_count": 35,
   "id": "a2fcefe8-9420-481d-8eec-e58fd7281621",
   "metadata": {},
   "outputs": [],
   "source": [
    "def train_epoch(model, optimizer, criterion, train_loader, validation_loader, epoch, device=device):\n",
    "    t_start = time.time()\n",
    "\n",
    "    model.train()\n",
    "    train_loss = 0.0\n",
    "    train_acc = 0\n",
    "    for batch in train_loader:\n",
    "        train_x, train_y = batch\n",
    "        train_x = train_x.to(device)\n",
    "        train_y = train_y.to(device).float().view(1,-1).t()\n",
    "        output = model(train_x)\n",
    "        loss = criterion(output, train_y)\n",
    "        train_loss += loss.data.item() * train_x.size(0)\n",
    "        \n",
    "        optimizer.zero_grad()\n",
    "        loss.backward()\n",
    "        optimizer.step()\n",
    "        \n",
    "        pred = output.cpu()\n",
    "        one_label = pred >= 0.5\n",
    "        pred[one_label] = 1\n",
    "        pred[torch.logical_not(one_label)] = 0\n",
    "        train_acc += pred.eq(train_y.cpu()).int().sum()\n",
    "\n",
    "    train_loss /= len(train_loader.dataset)\n",
    "    train_acc = train_acc / len(train_loader.dataset)\n",
    "        \n",
    "    model.eval()\n",
    "    valid_loss = 0.0\n",
    "    valid_acc = 0\n",
    "    for batch in validation_loader:\n",
    "        valid_x, valid_y = batch\n",
    "        valid_x = valid_x.to(device)\n",
    "        valid_y = valid_y.to(device).float().view(1,-1).t()\n",
    "        output = model(valid_x)\n",
    "        loss = criterion(output, valid_y)\n",
    "        valid_loss += loss.data.item() * valid_x.size(0)\n",
    "\n",
    "        pred = output.cpu()\n",
    "        one_label = pred >= 0.5\n",
    "        pred[one_label] = 1\n",
    "        pred[torch.logical_not(one_label)] = 0\n",
    "        valid_acc += pred.eq(train_y.cpu()).int().sum()\n",
    "    \n",
    "    valid_loss /= len(validation_loader.dataset)\n",
    "    valid_acc = valid_acc / len(validation_loader.dataset)\n",
    "    \n",
    "    return time.time() - t_start, train_loss, train_acc, valid_loss, valid_acc\n",
    "\n",
    "def train(model, optimizer, criterion, train_loader, validation_loader, epochs=20, device=device):\n",
    "    lst_train_loss = []\n",
    "    lst_train_acc = []\n",
    "    lst_valid_loss = []\n",
    "    lst_valid_acc = []\n",
    "    for epoch in range(epochs):\n",
    "        t_epoch, train_loss, train_acc, valid_loss, valid_acc = train_epoch(model, optimizer, criterion, train_loader, validation_loader, epoch, device)\n",
    "        lst_train_loss.append(train_loss)\n",
    "        lst_train_acc.append(train_acc)\n",
    "        lst_valid_loss.append(valid_loss)\n",
    "        lst_valid_acc.append(valid_acc)\n",
    "        \n",
    "        print(f'[Epoch: {epoch + 1}/{epochs}] -> Training Loss: {train_loss:.4f}, Training Acc: {train_acc:.4f},  Validation Loss: {valid_loss:.4f}, Validation Acc: {valid_acc:.4f}, {t_epoch:.3f}sec')\n",
    "    return {'train_acc': lst_train_acc, 'train_loss': lst_train_loss, 'valid_acc': lst_valid_acc, 'valid_loss': lst_valid_loss}\n",
    "        "
   ]
  },
  {
   "cell_type": "code",
   "execution_count": 36,
   "id": "0c6fcb0a-e08a-4686-85a2-b06cc21314f2",
   "metadata": {},
   "outputs": [
    {
     "name": "stdout",
     "output_type": "stream",
     "text": [
      "----------------------------------------------------------------\n",
      "        Layer (type)               Output Shape         Param #\n",
      "================================================================\n",
      "            Conv2d-1         [-1, 32, 148, 148]             896\n",
      "         MaxPool2d-2           [-1, 32, 74, 74]               0\n",
      "            Conv2d-3           [-1, 64, 72, 72]          18,496\n",
      "         MaxPool2d-4           [-1, 64, 36, 36]               0\n",
      "            Conv2d-5          [-1, 128, 34, 34]          73,856\n",
      "         MaxPool2d-6          [-1, 128, 17, 17]               0\n",
      "            Conv2d-7          [-1, 128, 15, 15]         147,584\n",
      "         MaxPool2d-8            [-1, 128, 7, 7]               0\n",
      "            Linear-9                  [-1, 512]       3,211,776\n",
      "           Linear-10                    [-1, 1]             513\n",
      "================================================================\n",
      "Total params: 3,453,121\n",
      "Trainable params: 3,453,121\n",
      "Non-trainable params: 0\n",
      "----------------------------------------------------------------\n",
      "Input size (MB): 0.26\n",
      "Forward/backward pass size (MB): 11.53\n",
      "Params size (MB): 13.17\n",
      "Estimated Total Size (MB): 24.96\n",
      "----------------------------------------------------------------\n"
     ]
    }
   ],
   "source": [
    "from torchsummary import summary\n",
    "\n",
    "model = Net().to(device)\n",
    "model.cuda()\n",
    "summary(model, input_size=(3, 150, 150))"
   ]
  },
  {
   "cell_type": "code",
   "execution_count": 37,
   "id": "24aa837c-b8cd-4b60-86b5-2ef9892663be",
   "metadata": {},
   "outputs": [
    {
     "name": "stdout",
     "output_type": "stream",
     "text": [
      "[Epoch: 1/50] -> Training Loss: 0.6951, Training Acc: 0.5070,  Validation Loss: 0.6878, Validation Acc: 0.6360, 10.089sec\n",
      "[Epoch: 2/50] -> Training Loss: 0.6849, Training Acc: 0.5475,  Validation Loss: 0.6689, Validation Acc: 0.5280, 8.124sec\n",
      "[Epoch: 3/50] -> Training Loss: 0.6588, Training Acc: 0.6260,  Validation Loss: 0.6572, Validation Acc: 0.5650, 8.057sec\n",
      "[Epoch: 4/50] -> Training Loss: 0.6272, Training Acc: 0.6610,  Validation Loss: 0.6234, Validation Acc: 0.5020, 7.811sec\n",
      "[Epoch: 5/50] -> Training Loss: 0.6106, Training Acc: 0.6760,  Validation Loss: 0.6387, Validation Acc: 0.5340, 7.821sec\n",
      "[Epoch: 6/50] -> Training Loss: 0.5927, Training Acc: 0.6985,  Validation Loss: 0.6178, Validation Acc: 0.5160, 7.812sec\n",
      "[Epoch: 7/50] -> Training Loss: 0.5772, Training Acc: 0.7085,  Validation Loss: 0.6086, Validation Acc: 0.5180, 7.698sec\n",
      "[Epoch: 8/50] -> Training Loss: 0.5574, Training Acc: 0.7205,  Validation Loss: 0.5838, Validation Acc: 0.4860, 7.794sec\n",
      "[Epoch: 9/50] -> Training Loss: 0.5281, Training Acc: 0.7400,  Validation Loss: 0.5953, Validation Acc: 0.4980, 7.729sec\n",
      "[Epoch: 10/50] -> Training Loss: 0.5141, Training Acc: 0.7580,  Validation Loss: 0.5677, Validation Acc: 0.5280, 7.864sec\n",
      "[Epoch: 11/50] -> Training Loss: 0.4867, Training Acc: 0.7790,  Validation Loss: 0.5780, Validation Acc: 0.4970, 7.838sec\n",
      "[Epoch: 12/50] -> Training Loss: 0.4588, Training Acc: 0.7825,  Validation Loss: 0.5641, Validation Acc: 0.4930, 7.721sec\n",
      "[Epoch: 13/50] -> Training Loss: 0.4537, Training Acc: 0.7865,  Validation Loss: 0.5480, Validation Acc: 0.4760, 7.802sec\n",
      "[Epoch: 14/50] -> Training Loss: 0.4291, Training Acc: 0.7970,  Validation Loss: 0.5562, Validation Acc: 0.5060, 7.823sec\n",
      "[Epoch: 15/50] -> Training Loss: 0.4050, Training Acc: 0.8180,  Validation Loss: 0.5513, Validation Acc: 0.5180, 7.832sec\n",
      "[Epoch: 16/50] -> Training Loss: 0.3974, Training Acc: 0.8190,  Validation Loss: 0.5638, Validation Acc: 0.5090, 7.785sec\n",
      "[Epoch: 17/50] -> Training Loss: 0.3805, Training Acc: 0.8330,  Validation Loss: 0.5442, Validation Acc: 0.4870, 7.784sec\n",
      "[Epoch: 18/50] -> Training Loss: 0.3612, Training Acc: 0.8515,  Validation Loss: 0.5799, Validation Acc: 0.5070, 7.791sec\n",
      "[Epoch: 19/50] -> Training Loss: 0.3480, Training Acc: 0.8460,  Validation Loss: 0.5839, Validation Acc: 0.5160, 7.817sec\n",
      "[Epoch: 20/50] -> Training Loss: 0.3277, Training Acc: 0.8615,  Validation Loss: 0.6014, Validation Acc: 0.5150, 7.802sec\n",
      "[Epoch: 21/50] -> Training Loss: 0.3091, Training Acc: 0.8685,  Validation Loss: 0.5951, Validation Acc: 0.5090, 7.699sec\n",
      "[Epoch: 22/50] -> Training Loss: 0.2904, Training Acc: 0.8750,  Validation Loss: 0.5676, Validation Acc: 0.5260, 7.780sec\n",
      "[Epoch: 23/50] -> Training Loss: 0.2698, Training Acc: 0.8910,  Validation Loss: 0.8181, Validation Acc: 0.6480, 7.783sec\n",
      "[Epoch: 24/50] -> Training Loss: 0.2490, Training Acc: 0.8990,  Validation Loss: 0.6281, Validation Acc: 0.4960, 7.745sec\n",
      "[Epoch: 25/50] -> Training Loss: 0.2285, Training Acc: 0.9125,  Validation Loss: 0.6240, Validation Acc: 0.5070, 7.729sec\n",
      "[Epoch: 26/50] -> Training Loss: 0.2175, Training Acc: 0.9160,  Validation Loss: 0.6083, Validation Acc: 0.4920, 7.737sec\n",
      "[Epoch: 27/50] -> Training Loss: 0.1958, Training Acc: 0.9210,  Validation Loss: 0.6568, Validation Acc: 0.5060, 7.803sec\n",
      "[Epoch: 28/50] -> Training Loss: 0.1672, Training Acc: 0.9420,  Validation Loss: 0.6531, Validation Acc: 0.4780, 7.789sec\n",
      "[Epoch: 29/50] -> Training Loss: 0.1610, Training Acc: 0.9400,  Validation Loss: 0.7106, Validation Acc: 0.5660, 7.874sec\n",
      "[Epoch: 30/50] -> Training Loss: 0.1355, Training Acc: 0.9580,  Validation Loss: 0.7146, Validation Acc: 0.4740, 7.874sec\n",
      "[Epoch: 31/50] -> Training Loss: 0.1328, Training Acc: 0.9570,  Validation Loss: 0.6902, Validation Acc: 0.4930, 7.825sec\n",
      "[Epoch: 32/50] -> Training Loss: 0.1019, Training Acc: 0.9715,  Validation Loss: 0.7496, Validation Acc: 0.4900, 7.792sec\n",
      "[Epoch: 33/50] -> Training Loss: 0.0951, Training Acc: 0.9745,  Validation Loss: 0.8413, Validation Acc: 0.5120, 7.714sec\n",
      "[Epoch: 34/50] -> Training Loss: 0.0825, Training Acc: 0.9760,  Validation Loss: 0.8997, Validation Acc: 0.5150, 7.918sec\n",
      "[Epoch: 35/50] -> Training Loss: 0.0674, Training Acc: 0.9800,  Validation Loss: 0.8461, Validation Acc: 0.5160, 7.830sec\n",
      "[Epoch: 36/50] -> Training Loss: 0.0743, Training Acc: 0.9770,  Validation Loss: 0.8603, Validation Acc: 0.5040, 7.734sec\n",
      "[Epoch: 37/50] -> Training Loss: 0.0589, Training Acc: 0.9825,  Validation Loss: 0.8980, Validation Acc: 0.5200, 7.812sec\n",
      "[Epoch: 38/50] -> Training Loss: 0.0451, Training Acc: 0.9910,  Validation Loss: 0.9314, Validation Acc: 0.4840, 7.788sec\n",
      "[Epoch: 39/50] -> Training Loss: 0.0556, Training Acc: 0.9820,  Validation Loss: 0.9547, Validation Acc: 0.5210, 7.842sec\n",
      "[Epoch: 40/50] -> Training Loss: 0.0249, Training Acc: 0.9965,  Validation Loss: 1.0396, Validation Acc: 0.4870, 7.813sec\n",
      "[Epoch: 41/50] -> Training Loss: 0.0551, Training Acc: 0.9845,  Validation Loss: 1.0641, Validation Acc: 0.4870, 7.750sec\n",
      "[Epoch: 42/50] -> Training Loss: 0.0287, Training Acc: 0.9935,  Validation Loss: 1.0195, Validation Acc: 0.5200, 7.671sec\n",
      "[Epoch: 43/50] -> Training Loss: 0.0229, Training Acc: 0.9960,  Validation Loss: 1.3266, Validation Acc: 0.5820, 7.794sec\n",
      "[Epoch: 44/50] -> Training Loss: 0.0341, Training Acc: 0.9890,  Validation Loss: 1.1186, Validation Acc: 0.5030, 7.824sec\n",
      "[Epoch: 45/50] -> Training Loss: 0.0124, Training Acc: 0.9990,  Validation Loss: 1.1959, Validation Acc: 0.5160, 7.810sec\n",
      "[Epoch: 46/50] -> Training Loss: 0.0057, Training Acc: 1.0000,  Validation Loss: 1.2796, Validation Acc: 0.4830, 7.760sec\n",
      "[Epoch: 47/50] -> Training Loss: 0.1035, Training Acc: 0.9855,  Validation Loss: 1.1206, Validation Acc: 0.4920, 7.861sec\n",
      "[Epoch: 48/50] -> Training Loss: 0.0154, Training Acc: 0.9980,  Validation Loss: 1.2899, Validation Acc: 0.5320, 7.814sec\n",
      "[Epoch: 49/50] -> Training Loss: 0.0041, Training Acc: 1.0000,  Validation Loss: 1.5248, Validation Acc: 0.4810, 7.797sec\n",
      "[Epoch: 50/50] -> Training Loss: 0.0031, Training Acc: 1.0000,  Validation Loss: 1.5778, Validation Acc: 0.4980, 7.723sec\n"
     ]
    }
   ],
   "source": [
    "criterion = nn.BCELoss()\n",
    "optimizer = torch.optim.RMSprop(model.parameters(), lr=1e-4)\n",
    "\n",
    "history = train(model, optimizer, criterion, trainloader, validationloader, epochs=50, device=device)"
   ]
  },
  {
   "cell_type": "code",
   "execution_count": 40,
   "id": "f0a95df3-cd8b-41d1-8817-aea26faeafe5",
   "metadata": {},
   "outputs": [
    {
     "data": {
      "text/plain": [
       "dict_keys(['train_acc', 'train_loss', 'valid_acc', 'valid_loss'])"
      ]
     },
     "execution_count": 40,
     "metadata": {},
     "output_type": "execute_result"
    }
   ],
   "source": [
    "history.keys()"
   ]
  },
  {
   "cell_type": "code",
   "execution_count": 41,
   "id": "011fe303-53b5-488a-a441-9e8b419b94de",
   "metadata": {},
   "outputs": [],
   "source": [
    "import matplotlib.pyplot as plt"
   ]
  },
  {
   "cell_type": "code",
   "execution_count": 44,
   "id": "7a24da47-c49e-4186-b16f-b540eca2283e",
   "metadata": {},
   "outputs": [
    {
     "data": {
      "image/png": "[encoded data removed]",
      "text/plain": [
       "<Figure size 432x288 with 1 Axes>"
      ]
     },
     "metadata": {
      "needs_background": "light"
     },
     "output_type": "display_data"
    },
    {
     "data": {
      "image/png": "[encoded data removed]",
      "text/plain": [
       "<Figure size 432x288 with 1 Axes>"
      ]
     },
     "metadata": {
      "needs_background": "light"
     },
     "output_type": "display_data"
    }
   ],
   "source": [
    "train_acc = history['train_acc']\n",
    "val_acc = history['valid_acc']\n",
    "train_loss = history['train_loss']\n",
    "val_loss = history['valid_loss']\n",
    "\n",
    "epochs = range(1, len(train_acc) + 1)\n",
    "plt.plot(epochs, train_acc, 'bo', label='Training acc')\n",
    "plt.plot(epochs, val_acc, 'b', label='Valicatio acc')\n",
    "plt.title('Training and valication accuracy')\n",
    "plt.legend()\n",
    "\n",
    "plt.figure()\n",
    "\n",
    "plt.plot(epochs, train_loss, 'bo', label='Training loss')\n",
    "plt.plot(epochs, val_loss, 'b', label='Validation loss')\n",
    "plt.title('Training and validation loss')\n",
    "plt.legend()\n",
    "\n",
    "plt.show()"
   ]
  },
  {
   "cell_type": "code",
   "execution_count": null,
   "id": "efaef0d3-aa28-4250-a9fb-0a2687f406c2",
   "metadata": {},
   "outputs": [],
   "source": []
  }
 ],
 "metadata": {
  "kernelspec": {
   "display_name": "Python 3",
   "language": "python",
   "name": "python3"
  },
  "language_info": {
   "codemirror_mode": {
    "name": "ipython",
    "version": 3
   },
   "file_extension": ".py",
   "mimetype": "text/x-python",
   "name": "python",
   "nbconvert_exporter": "python",
   "pygments_lexer": "ipython3",
   "version": "3.9.5"
  }
 },
 "nbformat": 4,
 "nbformat_minor": 5
}
